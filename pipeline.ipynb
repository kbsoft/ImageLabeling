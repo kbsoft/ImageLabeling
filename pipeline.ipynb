{
 "cells": [
  {
   "cell_type": "markdown",
   "metadata": {},
   "source": [
    "# Нарезка фото из видео"
   ]
  },
  {
   "cell_type": "code",
   "execution_count": 3,
   "metadata": {},
   "outputs": [],
   "source": [
    "import cv2\n",
    "\n",
    "video_dir = 'some link' #путь до видое в формате .avi\n",
    "vidcap = cv2.VideoCapture(video_dir)\n",
    "success,image = vidcap.read()\n",
    "count = 0\n",
    "success = True\n",
    "while success:\n",
    "  cv2.imwrite(\"путь для сохранения изображения + имя файлы_%d.jpg\" % count, image)     # save frame as JPEG file\n",
    "  success,image = vidcap.read()\n",
    "  count += 1    "
   ]
  },
  {
   "cell_type": "markdown",
   "metadata": {},
   "source": [
    "# Удаление части изображений для ускорения разметки"
   ]
  },
  {
   "cell_type": "markdown",
   "metadata": {},
   "source": [
    "После работы скрипта нарезки изображений из видео может получиться несколько тысяч изображений, большая часть которых повторяется (30 кадров в секунда). Для удаления части изображений используете следующий скрипт. Можно удалить как каждое 5-е, так и выбрать любую другую цифру, в зависимоти от количества картинок."
   ]
  },
  {
   "cell_type": "code",
   "execution_count": null,
   "metadata": {},
   "outputs": [],
   "source": [
    "import os\n",
    "import shutil\n",
    "directory = 'путь до изображений'\n",
    "new_directory = 'куда сохранить'\n",
    "\n",
    "array = []\n",
    "\n",
    "for root, path, files in os.walk(directory):\n",
    "    for file in files:\n",
    "        array.append(root + '/' + file)\n",
    "        \n",
    "new_array = array[::5] # удалится каждое 5-е изображение\n",
    "\n",
    "for i in new_array:\n",
    "    shutil.move(i, new_directory)"
   ]
  },
  {
   "cell_type": "markdown",
   "metadata": {},
   "source": [
    "# Удаление неразмеченных изображений"
   ]
  },
  {
   "cell_type": "markdown",
   "metadata": {},
   "source": [
    "Размечать нужно только ключевые кадры, прокручивая повторяющиеся. Окончательный датасет получается путем удаления неразмеченных изображений:"
   ]
  },
  {
   "cell_type": "code",
   "execution_count": null,
   "metadata": {},
   "outputs": [],
   "source": [
    "import glob\n",
    "from os import path\n",
    "import shutil\n",
    "\n",
    "directory = 'путь до изображений'\n",
    "xml_array = glob.glob(directory + '/*.xml')\n",
    "useful_jpg = [x.replace('.xml', '.jpg') for x in xml_array]\n",
    "all_jpg = glob.glob(directory + '/*.jpg')\n",
    "\n",
    "for x in all_jpg:\n",
    "    if x not in useful_jpg:\n",
    "        if path.exists(x):\n",
    "            shutil.move(x, 'куда переместить лишнее')"
   ]
  }
 ],
 "metadata": {
  "kernelspec": {
   "display_name": "Python 3",
   "language": "python",
   "name": "python3"
  },
  "language_info": {
   "codemirror_mode": {
    "name": "ipython",
    "version": 3
   },
   "file_extension": ".py",
   "mimetype": "text/x-python",
   "name": "python",
   "nbconvert_exporter": "python",
   "pygments_lexer": "ipython3",
   "version": "3.6.7"
  }
 },
 "nbformat": 4,
 "nbformat_minor": 4
}
